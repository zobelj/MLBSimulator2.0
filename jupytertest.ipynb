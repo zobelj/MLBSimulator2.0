{
 "metadata": {
  "language_info": {
   "codemirror_mode": {
    "name": "ipython",
    "version": 3
   },
   "file_extension": ".py",
   "mimetype": "text/x-python",
   "name": "python",
   "nbconvert_exporter": "python",
   "pygments_lexer": "ipython3",
   "version": "3.8.2-candidate"
  },
  "orig_nbformat": 2,
  "kernelspec": {
   "name": "python38264bitenvvenvd0906b345d6840469dd5a0c6c3cfcdad",
   "display_name": "Python 3.8.2 64-bit ('env': venv)"
  }
 },
 "nbformat": 4,
 "nbformat_minor": 2,
 "cells": [
  {
   "cell_type": "code",
   "execution_count": 21,
   "metadata": {},
   "outputs": [],
   "source": [
    "import numpy as np\n",
    "import pandas as pd\n",
    "data = pd.read_csv('data/mlb_2019_hitters.csv')"
   ]
  },
  {
   "cell_type": "code",
   "execution_count": 22,
   "metadata": {
    "tags": []
   },
   "outputs": [],
   "source": [
    "teams_all = list(data.loc[:, 'Team'])\n",
    "players = list(data.loc[:, 'Name'])\n",
    "unique_teams = []\n",
    "\n",
    "for team in teams_all:\n",
    "    if(team not in unique_teams):\n",
    "        unique_teams.append(team)\n",
    "teams = {unique_teams[i]: [] for i in range(len(unique_teams))}\n",
    "\n",
    "for i in range(len(players)):\n",
    "    teams[teams_all[i]].append(players[i])\n",
    "    "
   ]
  },
  {
   "cell_type": "code",
   "execution_count": 30,
   "metadata": {
    "tags": []
   },
   "outputs": [
    {
     "output_type": "stream",
     "name": "stdout",
     "text": "16\n"
    }
   ],
   "source": [
    "print(unique_teams[27])\n",
    "#print(len(teams['Marlins']))"
   ]
  },
  {
   "cell_type": "code",
   "execution_count": null,
   "metadata": {},
   "outputs": [],
   "source": []
  }
 ]
}